{
  "cells": [
    {
      "cell_type": "code",
      "execution_count": null,
      "metadata": {
        "collapsed": false
      },
      "outputs": [],
      "source": [
        "%matplotlib inline"
      ]
    },
    {
      "cell_type": "markdown",
      "metadata": {},
      "source": [
        "\n# Sierpinsky arrowhead curve\n"
      ]
    },
    {
      "cell_type": "code",
      "execution_count": null,
      "metadata": {
        "collapsed": false
      },
      "outputs": [],
      "source": [
        "from turtlethread import Turtle\n\n\ndef draw_sierpinsky_arrowhead(needle, step_length, recursion_level, angle=60):\n    if recursion_level == 0:\n        needle.forward(step_length)\n        return\n\n    draw_sierpinsky_arrowhead(needle, step_length, recursion_level-1, -angle)\n    needle.left(angle)\n    draw_sierpinsky_arrowhead(needle, step_length, recursion_level-1, angle)\n    needle.left(angle)\n    draw_sierpinsky_arrowhead(needle, step_length, recursion_level-1, -angle)\n\n\nneedle = Turtle()\n\nwith needle.running_stitch(20):\n    draw_sierpinsky_arrowhead(needle, 20, 5)\n\nneedle.save(\"sierpinsky.jef\")\nneedle.save(\"sierpinsky.png\")"
      ]
    }
  ],
  "metadata": {
    "kernelspec": {
      "display_name": "Python 3",
      "language": "python",
      "name": "python3"
    },
    "language_info": {
      "codemirror_mode": {
        "name": "ipython",
        "version": 3
      },
      "file_extension": ".py",
      "mimetype": "text/x-python",
      "name": "python",
      "nbconvert_exporter": "python",
      "pygments_lexer": "ipython3",
      "version": "3.8.10"
    }
  },
  "nbformat": 4,
  "nbformat_minor": 0
}