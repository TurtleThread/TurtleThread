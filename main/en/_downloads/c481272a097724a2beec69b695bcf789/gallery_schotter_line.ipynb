{
  "cells": [
    {
      "cell_type": "markdown",
      "metadata": {},
      "source": [
        "\n# Schotter-inspired line art\n"
      ]
    },
    {
      "cell_type": "code",
      "execution_count": null,
      "metadata": {
        "collapsed": false
      },
      "outputs": [],
      "source": [
        "import random\nfrom turtlethread import Turtle\n\n\ndef set_random_heading(turtle, mean, std):\n    turtle.setheading(random.gauss(mean, std))\n\n\nrandom.seed(42)\nneedle = Turtle()\n\nheight = 100\nwidth = 50\nstep = 10\nwith needle.running_stitch(step):\n    for j in range(height//4):\n        std = j\n        for i in range(width):\n            set_random_heading(needle, 0, std)\n            needle.forward(10)\n        \n        for i in range(2):\n            set_random_heading(needle, 90, std)\n            needle.forward(10)\n\n        for i in range(width):\n            set_random_heading(needle, 180, std)\n            needle.forward(10)\n\n        for i in range(2):\n            set_random_heading(needle, 90, std)\n            needle.forward(10)\n\n\nneedle.save(\"stotter_line.jef\")\nneedle.save(\"stotter_line.png\")"
      ]
    }
  ],
  "metadata": {
    "kernelspec": {
      "display_name": "Python 3",
      "language": "python",
      "name": "python3"
    },
    "language_info": {
      "codemirror_mode": {
        "name": "ipython",
        "version": 3
      },
      "file_extension": ".py",
      "mimetype": "text/x-python",
      "name": "python",
      "nbconvert_exporter": "python",
      "pygments_lexer": "ipython3",
      "version": "3.10.12"
    }
  },
  "nbformat": 4,
  "nbformat_minor": 0
}