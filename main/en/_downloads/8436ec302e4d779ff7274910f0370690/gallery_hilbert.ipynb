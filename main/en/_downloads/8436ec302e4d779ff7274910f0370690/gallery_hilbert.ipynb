{
  "cells": [
    {
      "cell_type": "code",
      "execution_count": null,
      "metadata": {
        "collapsed": false
      },
      "outputs": [],
      "source": [
        "%matplotlib inline"
      ]
    },
    {
      "cell_type": "markdown",
      "metadata": {},
      "source": [
        "\n# Hilbert curve\n\n.. figure:: /../../_static/figures/auto_examples/hilbert/hilbert.jpg\n     :width: 100%\n     :alt: An image of the embroidery machine making the Hilbert curve.\n"
      ]
    },
    {
      "cell_type": "code",
      "execution_count": null,
      "metadata": {
        "collapsed": false
      },
      "outputs": [],
      "source": [
        "from turtlethread import Turtle\n\n\ndef draw_hilbertkurve(needle, step_length, recursion_level, angle=90):\n    if recursion_level == 0:\n        return\n\n    needle.right(angle)\n    draw_hilbertkurve(needle, step_length, recursion_level-1, -angle)\n\n    needle.forward(step_length)\n    needle.left(angle)\n    draw_hilbertkurve(needle, step_length, recursion_level-1, angle)\n\n    needle.forward(step_length)\n    draw_hilbertkurve(needle, step_length, recursion_level-1, angle)\n\n    needle.left(angle)\n    needle.forward(step_length)\n    draw_hilbertkurve(needle, step_length, recursion_level-1, -angle)\n    needle.right(angle)\n\n\nneedle = Turtle()\n\nwith needle.running_stitch(20):\n    draw_hilbertkurve(needle, 20, 5)\n\nneedle.save(\"hilbert.jef\")\nneedle.save(\"hilbert.png\")"
      ]
    }
  ],
  "metadata": {
    "kernelspec": {
      "display_name": "Python 3",
      "language": "python",
      "name": "python3"
    },
    "language_info": {
      "codemirror_mode": {
        "name": "ipython",
        "version": 3
      },
      "file_extension": ".py",
      "mimetype": "text/x-python",
      "name": "python",
      "nbconvert_exporter": "python",
      "pygments_lexer": "ipython3",
      "version": "3.10.6"
    }
  },
  "nbformat": 4,
  "nbformat_minor": 0
}