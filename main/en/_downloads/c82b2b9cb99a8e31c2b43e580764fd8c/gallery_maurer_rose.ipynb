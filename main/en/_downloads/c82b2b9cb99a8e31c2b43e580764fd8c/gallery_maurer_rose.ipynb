{
  "cells": [
    {
      "cell_type": "code",
      "execution_count": null,
      "metadata": {
        "collapsed": false
      },
      "outputs": [],
      "source": [
        "%matplotlib inline"
      ]
    },
    {
      "cell_type": "markdown",
      "metadata": {},
      "source": [
        "\n# Maurer rose\n\nThe Maurer rose is a mathematical pattern that looks like a rose. \nYou can read more about this pattern on [the Maurer rose Wikipedia page](https://en.wikipedia.org/wiki/Maurer_rose)\n"
      ]
    },
    {
      "cell_type": "code",
      "execution_count": null,
      "metadata": {
        "collapsed": false
      },
      "outputs": [],
      "source": [
        "from turtlethread import Turtle\nfrom math import pi, sin, cos\n\nneedle = Turtle()\n\nn = 5\nd = 97\nwith needle.running_stitch(50):\n    for theta in range(361):\n        k = theta * d * pi / 180\n        r = 300 * sin(n * k)\n        x = r * cos(k)\n        y = r * sin(k)\n        needle.goto(x, y)\n\nneedle.save(\"maurer_rose.svg\")"
      ]
    }
  ],
  "metadata": {
    "kernelspec": {
      "display_name": "Python 3",
      "language": "python",
      "name": "python3"
    },
    "language_info": {
      "codemirror_mode": {
        "name": "ipython",
        "version": 3
      },
      "file_extension": ".py",
      "mimetype": "text/x-python",
      "name": "python",
      "nbconvert_exporter": "python",
      "pygments_lexer": "ipython3",
      "version": "3.10.6"
    }
  },
  "nbformat": 4,
  "nbformat_minor": 0
}