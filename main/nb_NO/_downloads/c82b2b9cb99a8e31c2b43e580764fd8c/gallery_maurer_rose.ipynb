{
  "cells": [
    {
      "cell_type": "code",
      "execution_count": null,
      "metadata": {
        "collapsed": false
      },
      "outputs": [],
      "source": [
        "%matplotlib inline"
      ]
    },
    {
      "cell_type": "markdown",
      "metadata": {},
      "source": [
        "\n# Maurer rose\n\nMaurer roser er matematiske m\u00f8nstre som kan se litt ut som blomster.\nFor mer informasjon kan du se [den engelske Wikipedia siden om Maurer roser](https://en.wikipedia.org/wiki/Maurer_rose)\n"
      ]
    },
    {
      "cell_type": "code",
      "execution_count": null,
      "metadata": {
        "collapsed": false
      },
      "outputs": [],
      "source": [
        "from turtlethread import Turtle\nfrom math import pi, sin, cos\n\nn\u00e5l = Turtle()\n\nn = 5\nd = 97\nwith n\u00e5l.running_stitch(10):\n    for theta in range(181):\n        k = theta * d * pi / 180\n        r = 300 * sin(n * k)\n        x = r * cos(k)\n        y = r * sin(k)\n        n\u00e5l.goto(x, y)\n\nn\u00e5l.save(\"maurer_rose.svg\")"
      ]
    }
  ],
  "metadata": {
    "kernelspec": {
      "display_name": "Python 3",
      "language": "python",
      "name": "python3"
    },
    "language_info": {
      "codemirror_mode": {
        "name": "ipython",
        "version": 3
      },
      "file_extension": ".py",
      "mimetype": "text/x-python",
      "name": "python",
      "nbconvert_exporter": "python",
      "pygments_lexer": "ipython3",
      "version": "3.8.10"
    }
  },
  "nbformat": 4,
  "nbformat_minor": 0
}