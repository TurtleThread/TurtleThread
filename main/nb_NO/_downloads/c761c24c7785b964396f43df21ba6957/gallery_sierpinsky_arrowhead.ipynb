{
  "cells": [
    {
      "cell_type": "code",
      "execution_count": null,
      "metadata": {
        "collapsed": false
      },
      "outputs": [],
      "source": [
        "%matplotlib inline"
      ]
    },
    {
      "cell_type": "markdown",
      "metadata": {},
      "source": [
        "\n# Tegn en Sierpinsky pilspisskurve\n"
      ]
    },
    {
      "cell_type": "code",
      "execution_count": null,
      "metadata": {
        "collapsed": false
      },
      "outputs": [],
      "source": [
        "from turtlethread import Turtle\n\n\ndef tegn_sierpinsky_pilspiss(n\u00e5l, steglengde, niv\u00e5, vinkel=60):\n    if niv\u00e5 == 0:\n        n\u00e5l.forward(steglengde)\n        return\n\n    tegn_sierpinsky_pilspiss(n\u00e5l, steglengde, niv\u00e5-1, -vinkel)\n    n\u00e5l.left(vinkel)\n    tegn_sierpinsky_pilspiss(n\u00e5l, steglengde, niv\u00e5-1, vinkel)\n    n\u00e5l.left(vinkel)\n    tegn_sierpinsky_pilspiss(n\u00e5l, steglengde, niv\u00e5-1, -vinkel)\n\n\nn\u00e5l = Turtle()\n\nwith n\u00e5l.running_stitch(10):\n    tegn_sierpinsky_pilspiss(n\u00e5l, 10, 5)\n\nn\u00e5l.save(\"sierpinsky.jef\")\nn\u00e5l.save(\"sierpinsky.png\")"
      ]
    }
  ],
  "metadata": {
    "kernelspec": {
      "display_name": "Python 3",
      "language": "python",
      "name": "python3"
    },
    "language_info": {
      "codemirror_mode": {
        "name": "ipython",
        "version": 3
      },
      "file_extension": ".py",
      "mimetype": "text/x-python",
      "name": "python",
      "nbconvert_exporter": "python",
      "pygments_lexer": "ipython3",
      "version": "3.8.10"
    }
  },
  "nbformat": 4,
  "nbformat_minor": 0
}