{
  "cells": [
    {
      "cell_type": "code",
      "execution_count": null,
      "metadata": {
        "collapsed": false
      },
      "outputs": [],
      "source": [
        "%matplotlib inline"
      ]
    },
    {
      "cell_type": "markdown",
      "metadata": {},
      "source": [
        "\n# Brodere en beskjed med morsekode\n\nI dette eksempelet skal vi se p\u00e5 hvordan vi kan oversette beskjeder til morsekode\nog hvordan vi kan lage et broderim\u00f8nster fra disse beskjedene.\n\nVi starter det hele med \u00e5 importere ``Turtle`` fra ``turtlethread``.\n"
      ]
    },
    {
      "cell_type": "code",
      "execution_count": null,
      "metadata": {
        "collapsed": false
      },
      "outputs": [],
      "source": [
        "from turtlethread import Turtle"
      ]
    },
    {
      "cell_type": "markdown",
      "metadata": {},
      "source": [
        "Da er neste steg \u00e5 lage kode som tegner denne morsekode med et skilpaddeobjekt. \nDette gj\u00f8r vi ved \u00e5 definere hvordan vi tegner en prikk og en strek. Det vi vet om morsekode er:\n\n- En prikk varer en tidsenhet\n- En strek varer tre tidsenheter\n- Mellomrommet mellom hvert tegn er tre tidsenheter\n- Mellomrommet mellom hvert ord er syv tidsenheter\n\nBasert p\u00e5 dette kan vi tegne prikker og streker med ``turtlethread``. Det er mange m\u00e5ter vi\nkan gj\u00f8re det p\u00e5, men vi har valgt denne:\n\n<img src=\"file://../../../_static/figures/morse/morse.svg\">\n\nLa oss lage en funksjon for \u00e5 tegne en prikk, en funksjon for \u00e5 tegne en strek og en funksjon som tar\ninn et morsetegn (strek eller mellomrom) og tegner det.\n\n"
      ]
    },
    {
      "cell_type": "code",
      "execution_count": null,
      "metadata": {
        "collapsed": false
      },
      "outputs": [],
      "source": [
        "def tegn_strek(penn, lengde, h\u00f8yde):\n    \"\"\"Bruk skilpaddeobjektet ``penn`` for \u00e5 tegne en strek.\n    \"\"\"\n    penn.left(90)\n    penn.forward(h\u00f8yde)\n    penn.right(90)\n    penn.forward(3*lengde)\n    penn.right(90)\n    penn.forward(h\u00f8yde)\n    penn.left(90)\n \n\n \ndef tegn_prikk(penn, lengde, h\u00f8yde):\n    \"\"\"Bruk skilpaddeobjektet ``penn`` for \u00e5 tegne prikk.\n    \"\"\"\n    penn.left(90)\n    penn.forward(h\u00f8yde)\n    penn.right(90)\n    penn.forward(lengde)\n    penn.right(90)\n    penn.forward(h\u00f8yde)\n    penn.left(90)\n\n \n \ndef tegn_morse_tegn(tegn, penn, lengde, h\u00f8yde):\n    \"\"\"Bruk skilpaddeobjektet ``penn`` for \u00e5 tegne et morsetegn (prikk, strek eller pause).\n    \"\"\"\n    if tegn == \".\":\n        tegn_prikk(penn, lengde, h\u00f8yde)\n    elif tegn == \"-\":\n        tegn_strek(penn, lengde, h\u00f8yde)\n    elif tegn == \" \":\n        penn.forward(lengde)"
      ]
    },
    {
      "cell_type": "markdown",
      "metadata": {},
      "source": [
        "N\u00e5 har vi kode som tegner hvert tegn i en morsekode, men vi m\u00e5 ogs\u00e5 lage kode for \u00e5 tegne\nen hel beskjed. \n\n"
      ]
    },
    {
      "cell_type": "code",
      "execution_count": null,
      "metadata": {
        "collapsed": false
      },
      "outputs": [],
      "source": [
        "def tegn_morsekode(morsekode, penn, lengde, h\u00f8yde):\n    \"\"\"Bruk en skilpadde for \u00e5 tegne morsekode\n    \"\"\"\n    # Vi vil ha litt mellomrom p\u00e5 starten av strengen, dette er ikke n\u00f8dvendig, men f\u00e5r det til \u00e5 se pent ut\n    penn.forward(lengde/2)\n\n    # Vi kan iterere over hvert tegn i en tekststreng\n    for morsebokstav in morsekode:\n        tegn_morse_tegn(morsebokstav, penn, lengde=lengde, h\u00f8yde=h\u00f8yde)\n        penn.forward(lengde)  # Det er en lengdeenhet mellomrom mellom hvert tegn\n    \n    # Vi vil ha litt mellomrom p\u00e5 slutten av strengen, dette er ikke n\u00f8dvendig, men f\u00e5r det til \u00e5 se pent ut\n    penn.forward(lengde/2)"
      ]
    },
    {
      "cell_type": "markdown",
      "metadata": {},
      "source": [
        "La oss pr\u00f8ve ut koden s\u00e5 langt ved \u00e5 tegne SOS (... --- ...) med morsekode.\n\n"
      ]
    },
    {
      "cell_type": "code",
      "execution_count": null,
      "metadata": {
        "collapsed": false
      },
      "outputs": [],
      "source": [
        "penn = Turtle()\nwith penn.running_stitch(30):\n    tegn_morsekode(\"... --- ...\", penn, 60, 200)\n\npenn.save(\"sos.png\")"
      ]
    },
    {
      "cell_type": "markdown",
      "metadata": {},
      "source": [
        "Neste steg er \u00e5 lage kode som gj\u00f8r om tekst til morsekode. For \u00e5 gj\u00f8re det bruker\nvi ett oppslagsverk (dictionary) som transformerer bokstaver og tegn til morsekode.\n\n"
      ]
    },
    {
      "cell_type": "code",
      "execution_count": null,
      "metadata": {
        "collapsed": false
      },
      "outputs": [],
      "source": [
        "MORSEALFABET = {\n  'A': '.-',     'B': '-...',   'C': '-.-.',\n  'D': '-..',    'E': '.',      'F': '..-.',\n  'G': '--.',    'H': '....',   'I': '..',\n  'J': '.---',   'K': '-.-',    'L': '.-..',\n  'M': '--',     'N': '-.',     'O': '---',\n  'P': '.--.',   'Q': '--.-',   'R': '.-.',\n  'S': '...',    'T': '-',      'U': '..-',\n  'V': '...-',   'W': '.--',    'X': '-..-',\n  'Y': '-.--',   'Z': '--..',   '\u00c6': '.-.-',\n  '\u00d8': '---.',   '\u00c5': '.--.-',  '1': '.----',\n  '2': '..---',  '3': '...--',  '4': '....-',\n  '5': '.....',  '6': '-....',  '7': '--...',\n  '8': '---..',  '9': '----.',  '0': '-----',\n  ',': '--..--', '.': '.-.-.-', '?': '..--..',\n  '/': '-..-.',  '-': '-....-', '(': '-.--.',\n  ')': '-.--.-', ' ': '   '\n}"
      ]
    },
    {
      "cell_type": "markdown",
      "metadata": {},
      "source": [
        "S\u00e5 oppretter vi en funksjon som tar inn en tekststreng og gj\u00f8r den om til morsekode.\n\n"
      ]
    },
    {
      "cell_type": "code",
      "execution_count": null,
      "metadata": {
        "collapsed": false
      },
      "outputs": [],
      "source": [
        "def oversett_tekst_til_morse(tekst):\n  morsetekst = \"\"\n  for bokstav in tekst:\n    morsetekst += MORSEALFABET[bokstav.upper()]\n    morsetekst += \" \"\n  return morsetekst\n\nprint(oversett_tekst_til_morse(\"Hei p\u00e5 deg\"))"
      ]
    },
    {
      "cell_type": "markdown",
      "metadata": {},
      "source": [
        "Vi ser at vi fikk skrevet ut \"Hei p\u00e5 deg\" med morsetegn. La oss bruke ``tegn_morsekode`` for \u00e5 tegne denne teksten.\n\n"
      ]
    },
    {
      "cell_type": "code",
      "execution_count": null,
      "metadata": {
        "collapsed": false
      },
      "outputs": [],
      "source": [
        "morsekode = oversett_tekst_til_morse(\"Hei p\u00e5 deg\")\npenn = Turtle()\nwith penn.running_stitch(30):\n    tegn_morsekode(morsekode, penn, 60, 200)\n\npenn.save(\"morsebeskjed1.png\")"
      ]
    },
    {
      "cell_type": "markdown",
      "metadata": {},
      "source": [
        "Her har vi en fin liten beskjed. La oss putte dette inn i en funksjon som tar inn en tekststreng\nog bruker en skilpadde for \u00e5 tegne morsekoden som representerer den tekststrengen.\n\n"
      ]
    },
    {
      "cell_type": "code",
      "execution_count": null,
      "metadata": {
        "collapsed": false
      },
      "outputs": [],
      "source": [
        "def tegn_morsekode_fra_tekst(tekst, penn, lengde, h\u00f8yde):\n  morsekode = oversett_tekst_til_morse(tekst)\n  tegn_morsekode(morsekode, penn, lengde, h\u00f8yde)\n  \n\npenn = Turtle()\nwith penn.running_stitch(30):\n    tegn_morsekode_fra_tekst(\"Hello world\", penn, 60, 200)\n\npenn.save(\"no_morse.jef\")\npenn.save(\"no_morse.png\")"
      ]
    }
  ],
  "metadata": {
    "kernelspec": {
      "display_name": "Python 3",
      "language": "python",
      "name": "python3"
    },
    "language_info": {
      "codemirror_mode": {
        "name": "ipython",
        "version": 3
      },
      "file_extension": ".py",
      "mimetype": "text/x-python",
      "name": "python",
      "nbconvert_exporter": "python",
      "pygments_lexer": "ipython3",
      "version": "3.8.10"
    }
  },
  "nbformat": 4,
  "nbformat_minor": 0
}