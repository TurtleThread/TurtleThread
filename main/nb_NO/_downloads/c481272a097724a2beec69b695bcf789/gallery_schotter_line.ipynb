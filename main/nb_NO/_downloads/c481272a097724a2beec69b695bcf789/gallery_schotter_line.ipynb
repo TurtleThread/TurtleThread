{
  "cells": [
    {
      "cell_type": "code",
      "execution_count": null,
      "metadata": {
        "collapsed": false
      },
      "outputs": [],
      "source": [
        "%matplotlib inline"
      ]
    },
    {
      "cell_type": "markdown",
      "metadata": {},
      "source": [
        "\n# Schotter-inspirert linjekunst\n"
      ]
    },
    {
      "cell_type": "code",
      "execution_count": null,
      "metadata": {
        "collapsed": false
      },
      "outputs": [],
      "source": [
        "import random\nfrom turtlethread import Turtle\n\n\ndef sett_tilfeldig_retning(turtle, mean, std):\n    turtle.setheading(random.gauss(mean, std))\n\n\nrandom.seed(42)\nn\u00e5l = Turtle()\n\nh\u00f8yde = 100\nbredde = 50\nsteg = 10\nwith n\u00e5l.running_stitch(steg):\n    for j in range(h\u00f8yde//4):\n        std = j\n        for i in range(bredde):\n            sett_tilfeldig_retning(n\u00e5l, 0, std)\n            n\u00e5l.forward(10)\n        \n        for i in range(2):\n            sett_tilfeldig_retning(n\u00e5l, 90, std)\n            n\u00e5l.forward(10)\n\n        for i in range(bredde):\n            sett_tilfeldig_retning(n\u00e5l, 180, std)\n            n\u00e5l.forward(10)\n\n        for i in range(2):\n            sett_tilfeldig_retning(n\u00e5l, 90, std)\n            n\u00e5l.forward(10)\n\n\nn\u00e5l.save(\"stotter_linje.jef\")\nn\u00e5l.save(\"stotter_linje.png\")"
      ]
    }
  ],
  "metadata": {
    "kernelspec": {
      "display_name": "Python 3",
      "language": "python",
      "name": "python3"
    },
    "language_info": {
      "codemirror_mode": {
        "name": "ipython",
        "version": 3
      },
      "file_extension": ".py",
      "mimetype": "text/x-python",
      "name": "python",
      "nbconvert_exporter": "python",
      "pygments_lexer": "ipython3",
      "version": "3.8.10"
    }
  },
  "nbformat": 4,
  "nbformat_minor": 0
}