{
  "cells": [
    {
      "cell_type": "code",
      "execution_count": null,
      "metadata": {
        "collapsed": false
      },
      "outputs": [],
      "source": [
        "%matplotlib inline"
      ]
    },
    {
      "cell_type": "markdown",
      "metadata": {},
      "source": [
        "\n# Hilbertkurve\n\n.. figure:: /../../_static/figures/auto_examples/hilbert/hilbert.jpg\n    :width: 100%\n    :alt: Et bilde av at en broderimaskin som broderer en hilbertkurve.\n"
      ]
    },
    {
      "cell_type": "code",
      "execution_count": null,
      "metadata": {
        "collapsed": false
      },
      "outputs": [],
      "source": [
        "from turtlethread import Turtle\n\n\ndef tegn_hilbertkurve(n\u00e5l, steglengde, niv\u00e5, vinkel=90):\n    if niv\u00e5 == 0:\n        return\n\n    n\u00e5l.right(vinkel)\n    tegn_hilbertkurve(n\u00e5l, steglengde, niv\u00e5-1, -vinkel)\n\n    n\u00e5l.forward(steglengde)\n    n\u00e5l.left(vinkel)\n    tegn_hilbertkurve(n\u00e5l, steglengde, niv\u00e5-1, vinkel)\n\n    n\u00e5l.forward(steglengde)\n    tegn_hilbertkurve(n\u00e5l, steglengde, niv\u00e5-1, vinkel)\n\n    n\u00e5l.left(vinkel)\n    n\u00e5l.forward(steglengde)\n    tegn_hilbertkurve(n\u00e5l, steglengde, niv\u00e5-1, -vinkel)\n    n\u00e5l.right(vinkel)\n\n\nn\u00e5l = Turtle()\n\nwith n\u00e5l.running_stitch(20):\n    tegn_hilbertkurve(n\u00e5l, 20, 5)\n\nn\u00e5l.save(\"hilbert.jef\")\nn\u00e5l.save(\"hilbert.png\")"
      ]
    }
  ],
  "metadata": {
    "kernelspec": {
      "display_name": "Python 3",
      "language": "python",
      "name": "python3"
    },
    "language_info": {
      "codemirror_mode": {
        "name": "ipython",
        "version": 3
      },
      "file_extension": ".py",
      "mimetype": "text/x-python",
      "name": "python",
      "nbconvert_exporter": "python",
      "pygments_lexer": "ipython3",
      "version": "3.10.6"
    }
  },
  "nbformat": 4,
  "nbformat_minor": 0
}