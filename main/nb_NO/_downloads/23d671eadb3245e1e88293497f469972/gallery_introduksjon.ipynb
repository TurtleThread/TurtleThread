{
  "cells": [
    {
      "cell_type": "code",
      "execution_count": null,
      "metadata": {
        "collapsed": false
      },
      "outputs": [],
      "source": [
        "%matplotlib inline"
      ]
    },
    {
      "cell_type": "markdown",
      "metadata": {},
      "source": [
        "\n# Ditt f\u00f8rste skilpaddebroderi\n\nN\u00e5 skal vi lage v\u00e5rt f\u00f8rste skilpaddebroderi.\nDet f\u00f8rste vi m\u00e5 gj\u00f8re er \u00e5 importere TurtleThread (pass p\u00e5 at det er [installert](../installation.html)).\n"
      ]
    },
    {
      "cell_type": "code",
      "execution_count": null,
      "metadata": {
        "collapsed": false
      },
      "outputs": [],
      "source": [
        "import turtlethread"
      ]
    },
    {
      "cell_type": "markdown",
      "metadata": {},
      "source": [
        "S\u00e5 oppretter vi et skilpaddeobjekt som vi skal bruke for \u00e5 tegne med\n\n"
      ]
    },
    {
      "cell_type": "code",
      "execution_count": null,
      "metadata": {
        "collapsed": false
      },
      "outputs": [],
      "source": [
        "penn = turtlethread.Turtle()"
      ]
    },
    {
      "cell_type": "markdown",
      "metadata": {},
      "source": [
        "N\u00e5 har vi alt vi trenger for \u00e5 begynne \u00e5 lage m\u00f8nster. La oss begynne med en strek.\nFor \u00e5 tegne en strek bruker vi ``forward`` og bestemmer hvor langt vi vil g\u00e5 (f.eks 300 steg). \n\n"
      ]
    },
    {
      "cell_type": "code",
      "execution_count": null,
      "metadata": {
        "collapsed": false
      },
      "outputs": [],
      "source": [
        "penn = turtlethread.Turtle()\npenn.forward(300)"
      ]
    },
    {
      "cell_type": "markdown",
      "metadata": {},
      "source": [
        "Denne koden flytter skilpadden 300 steg, men den lager ingen s\u00f8m. \nFor at skilpadden skal sy mens den flytter seg m\u00e5 vi bruke forward kommandoen inne i en s\u00f8m-blokk.\nDen enkleste s\u00f8m-blokken er en som heter ``running_stitch``. I en running stitch-block s\u00e5 broderer vi\nen rett strek med et fast mellomrom mellom hvert sting.\n\n"
      ]
    },
    {
      "cell_type": "code",
      "execution_count": null,
      "metadata": {
        "collapsed": false
      },
      "outputs": [],
      "source": [
        "penn = turtlethread.Turtle()\nwith penn.running_stitch(30):\n    penn.forward(300)"
      ]
    },
    {
      "cell_type": "markdown",
      "metadata": {},
      "source": [
        "Her har vi lagd kode som flytter skilpadda 300 steg fremover, med en running stitch s\u00f8m, hvor vi\nsetter et sting for hvert trettiende steg. Dette tilsvarer at vi setter ca et sting per tredje millimeter.\nLa oss se p\u00e5 hvordan dette ser ut. For \u00e5 gj\u00f8re det kan vi bruke ``visualise``-funksjonen, som bruker\ndet innebygde ``turtle``-biblioteket for \u00e5 tegne broderiet v\u00e5rt.\n\n"
      ]
    },
    {
      "cell_type": "code",
      "execution_count": null,
      "metadata": {
        "collapsed": false
      },
      "outputs": [],
      "source": [
        "penn = turtlethread.Turtle()\nwith penn.running_stitch(30):\n    penn.forward(300)\npenn.visualise()"
      ]
    },
    {
      "cell_type": "markdown",
      "metadata": {},
      "source": [
        "<img src=\"file://../../../_static/figures/introduction_1.png\">\n\n"
      ]
    },
    {
      "cell_type": "markdown",
      "metadata": {},
      "source": [
        "N\u00e5 har vi en s\u00f8m som gir en rett strek fremover.\nFor \u00e5 skifte retning kan vi bruke ``right`` og sende inn antall grader vi vil rotere (f.eks 90 grader). \n\n"
      ]
    },
    {
      "cell_type": "code",
      "execution_count": null,
      "metadata": {
        "collapsed": false
      },
      "outputs": [],
      "source": [
        "penn = turtlethread.Turtle()\nwith penn.running_stitch(30):\n    penn.forward(300)\n    penn.right(90)\n    penn.forward(300)\n\npenn.visualise()"
      ]
    },
    {
      "cell_type": "markdown",
      "metadata": {},
      "source": [
        "<img src=\"file://../../../_static/figures/introduction_2.png\">\n\n"
      ]
    },
    {
      "cell_type": "markdown",
      "metadata": {},
      "source": [
        "Med en for l\u00f8kke kan vi gjenta dette fire ganger for \u00e5 f\u00e5 en firkant:\n\n"
      ]
    },
    {
      "cell_type": "code",
      "execution_count": null,
      "metadata": {
        "collapsed": false
      },
      "outputs": [],
      "source": [
        "penn = turtlethread.Turtle()\nwith penn.running_stitch(30):\n    for side in range(4):\n        penn.forward(300)\n        penn.right(90)\n\npenn.visualise()"
      ]
    },
    {
      "cell_type": "markdown",
      "metadata": {},
      "source": [
        "<img src=\"file://../../../_static/figures/introduction_3.png\">\n\n"
      ]
    },
    {
      "cell_type": "markdown",
      "metadata": {},
      "source": [
        "Hvis vi bruker en ny l\u00f8kke og tegner firkanten \u00e5tte ganger, s\u00e5 f\u00e5r vi en fin blomst:\n\n"
      ]
    },
    {
      "cell_type": "code",
      "execution_count": null,
      "metadata": {
        "collapsed": false
      },
      "outputs": [],
      "source": [
        "penn = turtlethread.Turtle()\nwith penn.running_stitch(30):\n    for kronblad in range(8):\n        for side in range(4):\n            penn.forward(300)\n            penn.right(90)\n        penn.right(45)\n\npenn.visualise()"
      ]
    },
    {
      "cell_type": "markdown",
      "metadata": {},
      "source": [
        "<img src=\"file://../../../_static/figures/introduction_4.png\">\n\n"
      ]
    },
    {
      "cell_type": "code",
      "execution_count": null,
      "metadata": {
        "collapsed": false
      },
      "outputs": [],
      "source": [
        "# # %%\n# Det kan ofte v\u00e6re lurt \u00e5 finne de variable st\u00f8rrelsene i programmet, og la de v\u00e6re Python-variabler.\n# En variabel st\u00f8rrelse i programmet vi akkurat lagde er hvor mange kronblader, s\u00e5 la oss lage en\n# Python-variabel hvor vi lagrer antallet kronblader\n\n\npenn = turtlethread.Turtle()\nantall_kronblader = 8\n\nwith penn.running_stitch(30):\n    for kronblad in range(antall_kronblader):\n        for side in range(4):\n            penn.forward(300)\n            penn.right(90)\n        penn.right(360 / antall_kronblader)"
      ]
    },
    {
      "cell_type": "markdown",
      "metadata": {},
      "source": [
        "Pr\u00f8v \u00e5 modifisere koden for forskjellige verdier av antall_firkanter og se hva du f\u00e5r\n\n"
      ]
    },
    {
      "cell_type": "markdown",
      "metadata": {},
      "source": [
        "N\u00e5 som vi har et fint motiv kan vi for eksempel lagre det som PNG eller SVG bilder\n\n"
      ]
    },
    {
      "cell_type": "code",
      "execution_count": null,
      "metadata": {
        "collapsed": false
      },
      "outputs": [],
      "source": [
        "penn = turtlethread.Turtle()\nantall_kronblader = 8\n\nwith penn.running_stitch(30):\n    for kronblad in range(antall_kronblader):\n        for side in range(4):\n            penn.forward(300)\n            penn.right(90)\n        penn.right(360 / antall_kronblader)\n\npenn.save(\"firkantblomst.png\")\npenn.save(\"firkantblomst.svg\")"
      ]
    },
    {
      "cell_type": "markdown",
      "metadata": {},
      "source": [
        "Eller vi kan lagre DST-fil for \u00e5 bruke det med en broderimasking\n\n"
      ]
    },
    {
      "cell_type": "code",
      "execution_count": null,
      "metadata": {
        "collapsed": false
      },
      "outputs": [],
      "source": [
        "penn = turtlethread.Turtle()\nantall_kronblader = 8\n\nwith penn.running_stitch(30):\n    for kronblad in range(antall_kronblader):\n        for side in range(4):\n            penn.forward(300)\n            penn.right(90)\n        penn.right(360 / antall_kronblader)\n\npenn.save(\"firkantblomst.dst\")"
      ]
    },
    {
      "cell_type": "markdown",
      "metadata": {},
      "source": [
        "<img src=\"file://../../../_static/figures/firkantblomst_sydd.png\">\n"
      ]
    }
  ],
  "metadata": {
    "kernelspec": {
      "display_name": "Python 3",
      "language": "python",
      "name": "python3"
    },
    "language_info": {
      "codemirror_mode": {
        "name": "ipython",
        "version": 3
      },
      "file_extension": ".py",
      "mimetype": "text/x-python",
      "name": "python",
      "nbconvert_exporter": "python",
      "pygments_lexer": "ipython3",
      "version": "3.8.10"
    }
  },
  "nbformat": 4,
  "nbformat_minor": 0
}